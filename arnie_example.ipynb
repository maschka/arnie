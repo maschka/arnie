{
 "cells": [
  {
   "cell_type": "code",
   "execution_count": 35,
   "metadata": {},
   "outputs": [
    {
     "name": "stdout",
     "output_type": "stream",
     "text": [
      "The autoreload extension is already loaded. To reload it, use:\n",
      "  %reload_ext autoreload\n",
      "Populating the interactive namespace from numpy and matplotlib\n"
     ]
    }
   ],
   "source": [
    "%load_ext autoreload\n",
    "%autoreload 2\n",
    "\n",
    "%pylab inline\n",
    "\n",
    "import numpy as np\n",
    "from arnie.pfunc import pfunc\n",
    "from arnie.bpps import bpps\n",
    "import arnie.utils as utils\n",
    "from decimal import Decimal\n"
   ]
  },
  {
   "cell_type": "markdown",
   "metadata": {},
   "source": [
    "# Simple examples to display arnie's syntax and current capability."
   ]
  },
  {
   "cell_type": "code",
   "execution_count": 13,
   "metadata": {},
   "outputs": [],
   "source": [
    "# Hammerhead ribozyme example sequence:\n",
    "sequence = \"ACGCUGUCUGUACUUGUAUCAGUACACUGACGAGUCCCUAAAGGACGAAACAGCGC\""
   ]
  },
  {
   "cell_type": "code",
   "execution_count": 17,
   "metadata": {},
   "outputs": [
    {
     "name": "stdout",
     "output_type": "stream",
     "text": [
      "rnastructure /Users/hwayment/das/software/RNAstructure/exe\n",
      "rnasoft /Users/hwayment/das/software/MultiRNAFold\n",
      "contrafold_1 None\n",
      "contrafold_se None\n",
      "contrafold_2 /Users/hwayment/das/software/contrafold-se/src\n",
      "vienna_2 /usr/local/bin\n"
     ]
    }
   ],
   "source": [
    "# see current package locations in path file:\n",
    "utils.print_available_packages()"
   ]
  },
  {
   "cell_type": "code",
   "execution_count": 18,
   "metadata": {},
   "outputs": [
    {
     "name": "stdout",
     "output_type": "stream",
     "text": [
      "Available packages: ['rnastructure', 'rnasoft', 'contrafold_2', 'vienna_2']\n"
     ]
    }
   ],
   "source": [
    "# get list of available working packages:\n",
    "avail_packages = utils.package_list()\n",
    "print('Available packages:', avail_packages)"
   ]
  },
  {
   "cell_type": "code",
   "execution_count": 36,
   "metadata": {},
   "outputs": [
    {
     "name": "stdout",
     "output_type": "stream",
     "text": [
      "rnastructure 6.45E+13\n",
      "rnasoft 5.08E+10\n",
      "contrafold_2 1.00E+03\n",
      "vienna_2 2.94E+12\n"
     ]
    }
   ],
   "source": [
    "# Compute Z: \n",
    "for pkg in avail_packages:\n",
    "    Z = pfunc(sequence, package=pkg)\n",
    "    print('%s %.2E' % (pkg, Z))"
   ]
  },
  {
   "cell_type": "code",
   "execution_count": 39,
   "metadata": {},
   "outputs": [
    {
     "name": "stdout",
     "output_type": "stream",
     "text": [
      "Package\tconstr_Z\tZ\tp(motif)\n",
      "rnastructure\t1.22E+08\t6.45E+13\t0.00\n",
      "ERROR: RNAsoft is unable to handle constraints for calculating partition functions, returning unconstrained Z.\n",
      "rnasoft\t5.08E+10\t5.08E+10\t1.00\n",
      "contrafold_2\t3.91E+02\t1.00E+03\t0.39\n",
      "vienna_2\t2.57E+12\t2.94E+12\t0.87\n"
     ]
    }
   ],
   "source": [
    "# Compute constrained Z, example here is of HHR ribozyme closing stem.\n",
    "# Note not all packages can do this.\n",
    "\n",
    "constr = '.((((((..........................................)))))).'\n",
    "\n",
    "# Compute Z: \n",
    "print('Package\\tconstr_Z\\tZ\\tp(motif)')\n",
    "for pkg in avail_packages:\n",
    "    Z = pfunc(sequence, package=pkg)\n",
    "    constr_Z = pfunc(sequence, package=pkg, constraint=constr)\n",
    "    p_closing_stem = constr_Z / Z\n",
    "    \n",
    "    print('%s\\t%.2E\\t%.2E\\t%.2f' % (pkg, constr_Z, Z, p_closing_stem))\n"
   ]
  },
  {
   "cell_type": "code",
   "execution_count": 38,
   "metadata": {},
   "outputs": [
    {
     "name": "stdout",
     "output_type": "stream",
     "text": [
      "Constrained Z using Vienna motif method: 2.9407E+12\n",
      "Constrained Z using constraint method (Vienna): 2.5672E+12\n"
     ]
    }
   ],
   "source": [
    "#Compare to vienna's motif method:\n",
    "\n",
    "motif_Z_constr = pfunc(sequence,package='vienna_2', motif=constr)\n",
    "constrained_Z_constr = pfunc(sequence,package='vienna_2', constraint=constr)\n",
    "print(\"Constrained Z using Vienna motif method: %.4E\" % motif_Z_constr)\n",
    "print(\"Constrained Z using constraint method (Vienna): %.4E\" % constrained_Z_constr)"
   ]
  },
  {
   "cell_type": "code",
   "execution_count": null,
   "metadata": {},
   "outputs": [],
   "source": []
  }
 ],
 "metadata": {
  "kernelspec": {
   "display_name": "Python 3",
   "language": "python",
   "name": "python3"
  },
  "language_info": {
   "codemirror_mode": {
    "name": "ipython",
    "version": 3
   },
   "file_extension": ".py",
   "mimetype": "text/x-python",
   "name": "python",
   "nbconvert_exporter": "python",
   "pygments_lexer": "ipython3",
   "version": "3.7.3"
  }
 },
 "nbformat": 4,
 "nbformat_minor": 4
}
