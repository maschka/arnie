{
 "cells": [
  {
   "cell_type": "code",
   "execution_count": 1,
   "metadata": {},
   "outputs": [
    {
     "name": "stdout",
     "output_type": "stream",
     "text": [
      "Populating the interactive namespace from numpy and matplotlib\n"
     ]
    }
   ],
   "source": [
    "# %load /Users/hwayment/ipynb_defaults.py\n",
    "%load_ext autoreload\n",
    "%autoreload 2\n",
    "\n",
    "%pylab inline\n",
    "import numpy as np\n",
    "import pandas as pd\n",
    "\n",
    "import seaborn as sns\n",
    "sns.set_style('white')\n",
    "sns.set_context('poster')\n",
    "\n",
    "from matplotlib.colors import LogNorm\n",
    "\n",
    "from glob import glob\n",
    "import os, sys, pickle, requests\n"
   ]
  },
  {
   "cell_type": "code",
   "execution_count": 2,
   "metadata": {},
   "outputs": [],
   "source": [
    "from arnie.pfunc import pfunc\n",
    "from arnie.free_energy import free_energy"
   ]
  },
  {
   "cell_type": "code",
   "execution_count": 3,
   "metadata": {},
   "outputs": [],
   "source": []
  },
  {
   "cell_type": "code",
   "execution_count": 11,
   "metadata": {},
   "outputs": [
    {
     "name": "stdout",
     "output_type": "stream",
     "text": [
      "Z vienna:\t\t7949.284\n",
      "Z vienna constr:\t5387.170\n",
      "Z rnastruct:\t\t15042.349\n",
      "Z rnastruct constr:\t1.000\n"
     ]
    }
   ],
   "source": [
    "seq = 'ACAUGAGGAUCACCCAUGU'\n",
    "ms2 = '(((((.((....)))))))'\n",
    "\n",
    "print('Z vienna:\\t\\t%.3f' % pfunc(seq, package='vienna'))\n",
    "print('Z vienna constr:\\t%.3f' % pfunc(seq, package='vienna',constraint=ms2))\n",
    "\n",
    "print('Z rnastruct:\\t\\t%.3f' % pfunc(seq, package='rnastructure'))\n",
    "print('Z rnastruct constr:\\t%.3f' % pfunc(seq, package='rnastructure',constraint=ms2))"
   ]
  },
  {
   "cell_type": "code",
   "execution_count": 47,
   "metadata": {},
   "outputs": [
    {
     "name": "stdout",
     "output_type": "stream",
     "text": [
      "SS:\n",
      "-1\n",
      "Pairs:\n",
      "1 19\n",
      "2 18\n",
      "3 17\n",
      "4 16\n",
      "5 15\n",
      "7 14\n",
      "8 13\n",
      "-1 -1"
     ]
    }
   ],
   "source": [
    "! cat /Users/hwayment/das/tmp/ojqr.CON"
   ]
  },
  {
   "cell_type": "code",
   "execution_count": null,
   "metadata": {},
   "outputs": [],
   "source": []
  }
 ],
 "metadata": {
  "kernelspec": {
   "display_name": "Python 3",
   "language": "python",
   "name": "python3"
  },
  "language_info": {
   "codemirror_mode": {
    "name": "ipython",
    "version": 3
   },
   "file_extension": ".py",
   "mimetype": "text/x-python",
   "name": "python",
   "nbconvert_exporter": "python",
   "pygments_lexer": "ipython3",
   "version": "3.7.3"
  }
 },
 "nbformat": 4,
 "nbformat_minor": 4
}
