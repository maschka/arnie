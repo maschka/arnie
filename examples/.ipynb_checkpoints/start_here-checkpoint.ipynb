{
 "cells": [
  {
   "cell_type": "code",
   "execution_count": 2,
   "metadata": {},
   "outputs": [
    {
     "name": "stdout",
     "output_type": "stream",
     "text": [
      "Populating the interactive namespace from numpy and matplotlib\n"
     ]
    }
   ],
   "source": [
    "%load_ext autoreload\n",
    "%autoreload 2\n",
    "%pylab inline\n",
    "\n",
    "import numpy as np\n",
    "from arnie.pfunc import pfunc\n",
    "from arnie.bpps import bpps\n",
    "import arnie.utils as utils\n",
    "from decimal import Decimal\n",
    "\n",
    "# Hammerhead ribozyme example sequence:\n",
    "sequence = \"ACGCUGUCUGUACUUGUAUCAGUACACUGACGAGUCCCUAAAGGACGAAACAGCGC\""
   ]
  },
  {
   "cell_type": "markdown",
   "metadata": {},
   "source": [
    "## Motivation: simple examples to display arnie's syntax and current capability."
   ]
  },
  {
   "cell_type": "markdown",
   "metadata": {},
   "source": [
    "## Utilities"
   ]
  },
  {
   "cell_type": "code",
   "execution_count": 7,
   "metadata": {},
   "outputs": [
    {
     "name": "stdout",
     "output_type": "stream",
     "text": [
      "rnastructure /Users/hwayment/das/software/RNAstructure/exe\n",
      "rnasoft /Users/hwayment/das/software/MultiRNAFold\n",
      "contrafold_1 None\n",
      "contrafold_2 /Users/hwayment/das/software/contrafold-se/src\n",
      "vienna_2 /usr/local/bin\n"
     ]
    }
   ],
   "source": [
    "# see current package locations in path file:\n",
    "utils.print_available_packages()"
   ]
  },
  {
   "cell_type": "code",
   "execution_count": 3,
   "metadata": {},
   "outputs": [
    {
     "name": "stdout",
     "output_type": "stream",
     "text": [
      "Available packages: ['rnastructure', 'rnasoft', 'contrafold_2', 'vienna_2']\n"
     ]
    }
   ],
   "source": [
    "# get list of available working packages:\n",
    "avail_packages = utils.package_list()\n",
    "print('Available packages:', avail_packages)"
   ]
  },
  {
   "cell_type": "code",
   "execution_count": 47,
   "metadata": {},
   "outputs": [
    {
     "name": "stdout",
     "output_type": "stream",
     "text": [
      "2940725452391.442\n",
      "2940725452391.442\n",
      "2940725452391.442\n",
      "2940725452391.442\n"
     ]
    }
   ],
   "source": [
    "#agnostic to capitalization in package name.\n",
    "#package version must be specified after package name by underscore, 'vienna_2', not 'vienna 2'.\n",
    "for package_name in ['vienna','VIENNA','Vienna','vienna_2']:\n",
    "    Z = pfunc(sequence,package=package_name)\n",
    "    print(Z)"
   ]
  },
  {
   "cell_type": "markdown",
   "metadata": {},
   "source": [
    "## Partition Function"
   ]
  },
  {
   "cell_type": "code",
   "execution_count": 36,
   "metadata": {},
   "outputs": [
    {
     "name": "stdout",
     "output_type": "stream",
     "text": [
      "rnastructure 6.45E+13\n",
      "rnasoft 5.08E+10\n",
      "contrafold_2 1.00E+03\n",
      "vienna_2 2.94E+12\n"
     ]
    }
   ],
   "source": [
    "# Compute Z: \n",
    "for pkg in avail_packages:\n",
    "    Z = pfunc(sequence, package=pkg)\n",
    "    print('%s %.2E' % (pkg, Z))"
   ]
  },
  {
   "cell_type": "code",
   "execution_count": 39,
   "metadata": {},
   "outputs": [
    {
     "name": "stdout",
     "output_type": "stream",
     "text": [
      "Package\tconstr_Z\tZ\tp(motif)\n",
      "rnastructure\t1.22E+08\t6.45E+13\t0.00\n",
      "ERROR: RNAsoft is unable to handle constraints for calculating partition functions, returning unconstrained Z.\n",
      "rnasoft\t5.08E+10\t5.08E+10\t1.00\n",
      "contrafold_2\t3.91E+02\t1.00E+03\t0.39\n",
      "vienna_2\t2.57E+12\t2.94E+12\t0.87\n"
     ]
    }
   ],
   "source": [
    "# Compute constrained Z, example here is of HHR ribozyme closing stem.\n",
    "# Note not all packages can do this -- RNASoft will throw an error.\n",
    "\n",
    "constr = '.((((((..........................................)))))).'\n",
    "\n",
    "# Compute Z: \n",
    "print('Package\\tconstr_Z\\tZ\\tp(motif)')\n",
    "for pkg in avail_packages:\n",
    "    Z = pfunc(sequence, package=pkg)\n",
    "    constr_Z = pfunc(sequence, package=pkg, constraint=constr)\n",
    "    p_closing_stem = constr_Z / Z\n",
    "    \n",
    "    print('%s\\t%.2E\\t%.2E\\t%.2f' % (pkg, constr_Z, Z, p_closing_stem))"
   ]
  },
  {
   "cell_type": "code",
   "execution_count": 38,
   "metadata": {},
   "outputs": [
    {
     "name": "stdout",
     "output_type": "stream",
     "text": [
      "Constrained Z using Vienna motif method: 2.9407E+12\n",
      "Constrained Z using constraint method (Vienna): 2.5672E+12\n"
     ]
    }
   ],
   "source": [
    "#Compare to vienna's motif method:\n",
    "\n",
    "motif_Z_constr = pfunc(sequence,package='vienna_2', motif=constr)\n",
    "constrained_Z_constr = pfunc(sequence,package='vienna_2', constraint=constr)\n",
    "\n",
    "print(\"Constrained Z using Vienna motif method: %.4E\" % motif_Z_constr)\n",
    "print(\"Constrained Z using constraint method (Vienna): %.4E\" % constrained_Z_constr)"
   ]
  },
  {
   "cell_type": "markdown",
   "metadata": {},
   "source": [
    "## Accessing package-specific options"
   ]
  },
  {
   "cell_type": "code",
   "execution_count": 50,
   "metadata": {},
   "outputs": [
    {
     "name": "stdout",
     "output_type": "stream",
     "text": [
      "Vienna with dangles: 2.941E+12\n",
      "Vienna no dangles: 7.215E+09\n",
      "\n",
      "RNAStructure with dangles: 6.452E+13\n",
      "RNAStructure no dangles: 1.241E+13\n",
      "\n",
      "Vienna 37 C (standard): 2.941E+12\n",
      "Vienna 70 C: 4.626E+03\n"
     ]
    }
   ],
   "source": [
    "print(\"Vienna with dangles: %.3E\" % pfunc(sequence,package='vienna_2',dangles=True))\n",
    "print(\"Vienna no dangles: %.3E\" % pfunc(sequence,package='vienna_2',dangles=False))\n",
    "print('')\n",
    "print(\"RNAStructure with dangles: %.3E\" % pfunc(sequence,package='rnastructure',coaxial=True))\n",
    "print(\"RNAStructure no dangles: %.3E\" % pfunc(sequence,package='rnastructure',coaxial=False))\n",
    "print('')\n",
    "print(\"Vienna 37 C (standard): %.3E\" % pfunc(sequence,package='vienna_2'))\n",
    "print(\"Vienna 70 C: %.3E\" % pfunc(sequence,package='vienna_2',T=70))"
   ]
  },
  {
   "cell_type": "code",
   "execution_count": 39,
   "metadata": {},
   "outputs": [
    {
     "name": "stdout",
     "output_type": "stream",
     "text": [
      "RNAsoft with dangles 5.084E+10\n",
      "Warning: rnasoft does not support dangles options\n",
      "RNAsoft no dangles 5.084E+10\n",
      "\n",
      "Vienna with dangles: 2.941E+12\n",
      "Warning: vienna does not support coaxial options\n",
      "Vienna no dangles: 2.941E+12\n"
     ]
    }
   ],
   "source": [
    "#Will throw an error if a package doesn't support the selected option\n",
    "print(\"RNAsoft with dangles %.3E\" % pfunc(sequence,package='rnasoft',dangles=True))\n",
    "print(\"RNAsoft no dangles %.3E\" % pfunc(sequence,package='rnasoft',dangles=False))\n",
    "print(\"\")\n",
    "print(\"Vienna with dangles: %.3E\" % pfunc(sequence,package='vienna_2',coaxial=True))\n",
    "print(\"Vienna no dangles: %.3E\" % pfunc(sequence,package='vienna_2',coaxial=False))"
   ]
  },
  {
   "cell_type": "markdown",
   "metadata": {},
   "source": [
    "## Predict base pair probabilities"
   ]
  },
  {
   "cell_type": "code",
   "execution_count": 14,
   "metadata": {},
   "outputs": [
    {
     "data": {
      "image/png": "[encoded data removed]",
      "text/plain": [
       "<Figure size 864x288 with 4 Axes>"
      ]
     },
     "metadata": {
      "needs_background": "light"
     },
     "output_type": "display_data"
    }
   ],
   "source": [
    "figure(figsize=(12,4))\n",
    "\n",
    "for i,pkg in enumerate(avail_packages):\n",
    "    bp_matrix = bpps(sequence, package=pkg)\n",
    "    subplot(1,4,i+1)\n",
    "    imshow(bp_matrix,cmap='gist_heat_r')\n",
    "    title(pkg)\n",
    "    \n",
    "tight_layout()"
   ]
  },
  {
   "cell_type": "markdown",
   "metadata": {},
   "source": [
    "## Predict MEA structure from base pair probabilities"
   ]
  },
  {
   "cell_type": "code",
   "execution_count": 35,
   "metadata": {},
   "outputs": [
    {
     "name": "stdout",
     "output_type": "stream",
     "text": [
      "Scanning gamma for rnastructure bp probabilities\n",
      "log_g\tstruct\tE[MCC]\tMCC\n",
      "-4 ........................................................ 0.00 0.00\n",
      "-3 ........................................................ 0.00 0.00\n",
      "-2 ..(((..............................................))).. 0.43 0.43\n",
      "-1 .((((((.(((((........))))).......((((.....))))...)))))). 0.95 0.97\n",
      "0 .((((((.((((((......)))))).......((((.....))))...)))))). 0.97 1.00\n",
      "1 .((((((.((((((......)))))).......((((.....))))...)))))). 0.97 1.00\n",
      "2 .(((((((((((((.(...)))))))..)....((((.....))))...)))))). 0.92 1.00\n",
      "3 .(((((((((((((.(...)))))))..).(..((((.....)))))..)))))). 0.90 1.00\n",
      "Scanning gamma for rnasoft bp probabilities\n",
      "log_g\tstruct\tE[MCC]\tMCC\n",
      "-4 ........................................................ 0.00 0.00\n",
      "-3 ........................................................ 0.00 0.00\n",
      "-2 ..((................................................)).. 0.35 0.35\n",
      "-1 .(((((............................................))))). 0.55 0.56\n",
      "0 .((((((.(((((........))))).......((((.....))))...)))))). 0.76 0.97\n",
      "1 .((((((.((((((......)))))).......((((.....))))...)))))). 0.77 1.00\n",
      "2 .(((((((((((((.(...)))))))..).(..((((.....)))))..)))))). 0.71 1.00\n",
      "3 .(((((((((((((.(...)))))))..).(..((((.....)))))..)))))). 0.71 1.00\n",
      "Scanning gamma for contrafold_2 bp probabilities\n",
      "log_g\tstruct\tE[MCC]\tMCC\n",
      "-4 ........................................................ 0.00 0.00\n",
      "-3 ........................................................ 0.00 0.00\n",
      "-2 ........................................................ 0.00 0.00\n",
      "-1 ........................................................ 0.00 0.00\n",
      "0 .(((((..((((((......)))))).......((((.....))))....))))). 0.73 0.97\n",
      "1 .(((((((((((((......))))))..)....((((.....))))...)))))). 0.73 1.00\n",
      "2 .(((((((((((((.(...)))))))..).(..((((.....)))))..)))))). 0.69 1.00\n",
      "3 .(((((((((((((.(...)))))))..).(..((((.(..))))))..)))))). 0.68 1.00\n",
      "Scanning gamma for vienna_2 bp probabilities\n",
      "log_g\tstruct\tE[MCC]\tMCC\n",
      "-4 ........................................................ 0.00 0.00\n",
      "-3 ........................................................ 0.00 0.00\n",
      "-2 ..((................................................)).. 0.35 0.35\n",
      "-1 .(((((...((((........))))........((((.....))))....))))). 0.86 0.90\n",
      "0 .((((((.((((((......)))))).......((((.....))))...)))))). 0.92 1.00\n",
      "1 .(((((((((((((......))))))..)....((((.....))))...)))))). 0.90 1.00\n",
      "2 .(((((((((((((.(...)))))))..)....((((.....))))...)))))). 0.88 1.00\n",
      "3 .(((((((((((((.(...)))))))..).(..((((.....)))))..)))))). 0.85 1.00\n"
     ]
    }
   ],
   "source": [
    "from arnie.mea.mea import MEA\n",
    "\n",
    "ground_truth_struct = '.((((((.((((((......)))))).......((((.....))))...)))))).'\n",
    "\n",
    "for pkg in avail_packages:\n",
    "    \n",
    "    bp_matrix = bpps(sequence, package=pkg)\n",
    "    print('Scanning gamma for %s bp probabilities' % pkg)\n",
    "    print(\"log_g\\tstruct\\tE[MCC]\\tMCC\")\n",
    "    \n",
    "    for log_gamma in range(-4,4):\n",
    "        mea_mdl = MEA(bp_matrix,gamma=10**log_gamma)\n",
    "        [exp_sen, exp_ppv, exp_mcc, exp_fscore] = mea_mdl.score_expected()\n",
    "        [sen, ppv, mcc, fscore] = mea_mdl.score_ground_truth(ground_truth_struct)\n",
    "\n",
    "        print(\"%d %s %.2f %.2f\" % (log_gamma, mea_mdl.structure, exp_mcc, mcc))"
   ]
  }
 ],
 "metadata": {
  "kernelspec": {
   "display_name": "Python 3",
   "language": "python",
   "name": "python3"
  },
  "language_info": {
   "codemirror_mode": {
    "name": "ipython",
    "version": 3
   },
   "file_extension": ".py",
   "mimetype": "text/x-python",
   "name": "python",
   "nbconvert_exporter": "python",
   "pygments_lexer": "ipython3",
   "version": "3.7.3"
  }
 },
 "nbformat": 4,
 "nbformat_minor": 4
}
